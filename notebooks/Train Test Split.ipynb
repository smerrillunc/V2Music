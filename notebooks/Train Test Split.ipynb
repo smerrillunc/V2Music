{
 "cells": [
  {
   "cell_type": "code",
   "execution_count": 1,
   "id": "99d5d717",
   "metadata": {},
   "outputs": [],
   "source": [
    "import pandas as pd\n",
    "import numpy as np\n",
    "import os\n",
    "import ruptures as rpt\n",
    "\n",
    "import sys\n",
    "sys.path.append(os.path.abspath('../OFVMNET'))\n",
    "\n",
    "from sklearn.model_selection import train_test_split"
   ]
  },
  {
   "cell_type": "markdown",
   "id": "9d390de8",
   "metadata": {},
   "source": [
    "## Create Train Test Split"
   ]
  },
  {
   "cell_type": "code",
   "execution_count": 13,
   "id": "b5e4bfbd",
   "metadata": {},
   "outputs": [],
   "source": [
    "path = r\"/Users/scottmerrill/Documents/UNC/Vision Transformers/V2Music/V2M\"\n",
    "filenames = os.listdir(path + '/video')"
   ]
  },
  {
   "cell_type": "code",
   "execution_count": 42,
   "id": "e1e40277",
   "metadata": {},
   "outputs": [],
   "source": [
    "files = pd.DataFrame(filenames, columns=['filename'])\n",
    "\n",
    "valid_files = []\n",
    "for file in files['filename'].unique():\n",
    "    tmp = np.load(os.path.join(path, 'video/'  + file))\n",
    "    tmp2 = np.load(os.path.join(path, 'audio/'  + file))\n",
    "    tmp3 = np.load(os.path.join(path, 'optical_flow/'  + file))\n",
    "\n",
    "    if tmp.shape[0] == 61 and tmp2.shape[0] == 9002:\n",
    "        valid_files.append(file)\n"
   ]
  },
  {
   "cell_type": "code",
   "execution_count": 37,
   "id": "9ae1c906",
   "metadata": {},
   "outputs": [],
   "source": [
    "train_df, test_df = train_test_split(files[files.filename.isin(valid_files)], test_size=0.2, random_state=42)"
   ]
  },
  {
   "cell_type": "code",
   "execution_count": 38,
   "id": "1485a1ed",
   "metadata": {},
   "outputs": [],
   "source": [
    "train_df.to_csv(path+'/train.csv', index=False)\n",
    "test_df.to_csv(path+'/test.csv', index=False)"
   ]
  },
  {
   "cell_type": "code",
   "execution_count": 40,
   "id": "0c044277",
   "metadata": {},
   "outputs": [
    {
     "data": {
      "text/plain": [
       "355"
      ]
     },
     "execution_count": 40,
     "metadata": {},
     "output_type": "execute_result"
    }
   ],
   "source": [
    "len(valid_files        )"
   ]
  },
  {
   "cell_type": "code",
   "execution_count": 44,
   "id": "3912578f",
   "metadata": {},
   "outputs": [
    {
     "data": {
      "text/plain": [
       "(60,)"
      ]
     },
     "execution_count": 44,
     "metadata": {},
     "output_type": "execute_result"
    }
   ],
   "source": [
    "tmp3.shape"
   ]
  },
  {
   "cell_type": "code",
   "execution_count": null,
   "id": "2b48b5a0",
   "metadata": {},
   "outputs": [],
   "source": []
  }
 ],
 "metadata": {
  "kernelspec": {
   "display_name": "Python 3 (ipykernel)",
   "language": "python",
   "name": "python3"
  },
  "language_info": {
   "codemirror_mode": {
    "name": "ipython",
    "version": 3
   },
   "file_extension": ".py",
   "mimetype": "text/x-python",
   "name": "python",
   "nbconvert_exporter": "python",
   "pygments_lexer": "ipython3",
   "version": "3.11.5"
  }
 },
 "nbformat": 4,
 "nbformat_minor": 5
}
