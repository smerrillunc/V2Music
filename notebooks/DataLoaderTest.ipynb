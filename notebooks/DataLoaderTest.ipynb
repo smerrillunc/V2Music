{
 "cells": [
  {
   "cell_type": "code",
   "execution_count": 1,
   "id": "69dad643",
   "metadata": {},
   "outputs": [],
   "source": [
    "import numpy as np\n",
    "import os\n",
    "\n",
    "from torch.utils.data import DataLoader, Dataset"
   ]
  },
  {
   "cell_type": "code",
   "execution_count": null,
   "id": "34b8570c",
   "metadata": {},
   "outputs": [],
   "source": []
  },
  {
   "cell_type": "code",
   "execution_count": 3,
   "id": "4941ecbd",
   "metadata": {},
   "outputs": [],
   "source": [
    "class VideoAudioDataset(Dataset):\n",
    "    def __init__(self, path, filenames):\n",
    "        self.path = path\n",
    "        self.filenames = filenames\n",
    "    \n",
    "    def __len__(self):\n",
    "        return len(self.filenames)\n",
    "    \n",
    "    def __getitem__(self, idx):\n",
    "        filename = self.filenames[idx]\n",
    "        video_data = np.load(os.path.join(self.path, 'video', filename))\n",
    "        flow_data = np.load(os.path.join(self.path, 'optical_flow', filename))\n",
    "        audio_data = np.load(os.path.join(self.path, 'audio', filename))\n",
    "        video_data = video_data[:, :1024] # fix this for final run\n",
    "        return video_data, flow_data, audio_data"
   ]
  },
  {
   "cell_type": "code",
   "execution_count": 13,
   "id": "fc0cf410",
   "metadata": {},
   "outputs": [],
   "source": [
    "path = '/Users/scottmerrill/Documents/UNC/Vision Transformers/V2Music/V2M'\n",
    "filenames=['_am8AGK29Dk.npy']"
   ]
  },
  {
   "cell_type": "code",
   "execution_count": 14,
   "id": "2f6d52a8",
   "metadata": {},
   "outputs": [],
   "source": [
    "loader = VideoAudioDataset(path, filenames)"
   ]
  },
  {
   "cell_type": "code",
   "execution_count": 15,
   "id": "fd8079f2",
   "metadata": {},
   "outputs": [],
   "source": [
    "from torch.utils.data import DataLoader, Dataset\n",
    "test_loader = DataLoader(loader, batch_size=1, shuffle=True, )\n"
   ]
  },
  {
   "cell_type": "code",
   "execution_count": 16,
   "id": "4c2dd837",
   "metadata": {},
   "outputs": [],
   "source": [
    "\n",
    "for video_data, flow_data, audio_data in test_loader:\n",
    "    break"
   ]
  },
  {
   "cell_type": "code",
   "execution_count": 19,
   "id": "f4d78762",
   "metadata": {},
   "outputs": [
    {
     "data": {
      "text/plain": [
       "tensor([[ 62,  62,  62,  ..., 633, 928, 928]])"
      ]
     },
     "execution_count": 19,
     "metadata": {},
     "output_type": "execute_result"
    }
   ],
   "source": [
    "audio_data"
   ]
  },
  {
   "cell_type": "code",
   "execution_count": null,
   "id": "54689d3c",
   "metadata": {},
   "outputs": [],
   "source": []
  }
 ],
 "metadata": {
  "kernelspec": {
   "display_name": "Python 3 (ipykernel)",
   "language": "python",
   "name": "python3"
  },
  "language_info": {
   "codemirror_mode": {
    "name": "ipython",
    "version": 3
   },
   "file_extension": ".py",
   "mimetype": "text/x-python",
   "name": "python",
   "nbconvert_exporter": "python",
   "pygments_lexer": "ipython3",
   "version": "3.11.5"
  }
 },
 "nbformat": 4,
 "nbformat_minor": 5
}
